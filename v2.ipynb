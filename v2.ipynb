{
  "nbformat": 4,
  "nbformat_minor": 0,
  "metadata": {
    "colab": {
      "provenance": [],
      "authorship_tag": "ABX9TyN+xWXmxAQ7P1JVZRsKsHkt",
      "include_colab_link": true
    },
    "kernelspec": {
      "name": "python3",
      "display_name": "Python 3"
    },
    "language_info": {
      "name": "python"
    }
  },
  "cells": [
    {
      "cell_type": "markdown",
      "metadata": {
        "id": "view-in-github",
        "colab_type": "text"
      },
      "source": [
        "<a href=\"https://colab.research.google.com/github/joshdeputi2011/TestSample/blob/main/v2.ipynb\" target=\"_parent\"><img src=\"https://colab.research.google.com/assets/colab-badge.svg\" alt=\"Open In Colab\"/></a>"
      ]
    },
    {
      "cell_type": "code",
      "execution_count": null,
      "metadata": {
        "id": "XCl9goS4-vAL"
      },
      "outputs": [],
      "source": [
        "!pip install numpy pandas scikit-learn tensorflow"
      ]
    },
    {
      "cell_type": "code",
      "source": [
        "import numpy as np\n",
        "import pandas as pd\n",
        "from sklearn.model_selection import train_test_split\n",
        "from sklearn.preprocessing import StandardScaler\n",
        "import tensorflow as tf\n",
        "from tensorflow.keras.models import Sequential\n",
        "from tensorflow.keras.layers import Dense\n",
        "from sklearn.metrics import classification_report\n"
      ],
      "metadata": {
        "id": "-YZBAn7k-2Ys"
      },
      "execution_count": null,
      "outputs": []
    },
    {
      "cell_type": "code",
      "source": [
        "from google.colab import files\n",
        "uploaded = files.upload()\n"
      ],
      "metadata": {
        "id": "cPFPc-Fw_f9u"
      },
      "execution_count": null,
      "outputs": []
    },
    {
      "cell_type": "code",
      "source": [
        "import zipfile, os\n",
        "\n",
        "# Extract uploaded ZIP\n",
        "zip_file_name = next(iter(uploaded))\n",
        "extract_dir = \"extracted_data\"\n",
        "os.makedirs(extract_dir, exist_ok=True)\n",
        "\n",
        "with zipfile.ZipFile(zip_file_name, 'r') as zip_ref:\n",
        "    zip_ref.extractall(extract_dir)\n",
        "\n",
        "print(\"Extracted files:\", os.listdir(extract_dir))\n"
      ],
      "metadata": {
        "id": "vy6ZmOu7_hZp"
      },
      "execution_count": null,
      "outputs": []
    },
    {
      "cell_type": "code",
      "source": [
        "import pandas as pd\n",
        "\n",
        "# Load dataset (adjust filename if needed)\n",
        "csv_path = os.path.join(extract_dir, 'time_domain_features_train.csv')\n",
        "df = pd.read_csv(csv_path)\n",
        "\n",
        "# Drop UUID\n",
        "df.drop(columns=[\"uuid\"], inplace=True)\n",
        "\n",
        "# Create status label from heart rate\n",
        "df['status'] = df['HR'].apply(lambda x: 1 if x < 60 or x > 100 else 0)\n",
        "\n",
        "# Split features and label\n",
        "X = df.drop(columns=[\"status\"])\n",
        "y = df[\"status\"]\n",
        "\n",
        "X.head()\n"
      ],
      "metadata": {
        "id": "a3hUHt7K_iBy"
      },
      "execution_count": null,
      "outputs": []
    },
    {
      "cell_type": "code",
      "source": [
        "from sklearn.model_selection import train_test_split\n",
        "from sklearn.preprocessing import StandardScaler\n",
        "\n",
        "# Split data\n",
        "X_train, X_test, y_train, y_test = train_test_split(X, y, test_size=0.2, random_state=42)\n",
        "\n",
        "# Scale features\n",
        "scaler = StandardScaler()\n",
        "X_train_scaled = scaler.fit_transform(X_train)\n",
        "X_test_scaled = scaler.transform(X_test)\n"
      ],
      "metadata": {
        "id": "dZURzpQa_lUS"
      },
      "execution_count": null,
      "outputs": []
    },
    {
      "cell_type": "code",
      "source": [
        "import tensorflow as tf\n",
        "from tensorflow.keras import layers, models\n",
        "\n",
        "# Define model\n",
        "model = models.Sequential([\n",
        "    layers.Dense(64, activation='relu', input_shape=(X_train.shape[1],)),\n",
        "    layers.Dense(32, activation='relu'),\n",
        "    layers.Dense(1, activation='sigmoid')\n",
        "])\n",
        "\n",
        "# Compile model\n",
        "model.compile(optimizer='adam',\n",
        "              loss='binary_crossentropy',\n",
        "              metrics=['accuracy'])\n",
        "\n",
        "model.summary()\n"
      ],
      "metadata": {
        "id": "3IqIEn_0_mkc"
      },
      "execution_count": null,
      "outputs": []
    },
    {
      "cell_type": "code",
      "source": [
        "history = model.fit(X_train_scaled, y_train, epochs=20, batch_size=32, validation_split=0.2)\n"
      ],
      "metadata": {
        "id": "sG9aqYkv_n1Y"
      },
      "execution_count": null,
      "outputs": []
    },
    {
      "cell_type": "code",
      "source": [
        "test_loss, test_accuracy = model.evaluate(X_test_scaled, y_test)\n",
        "print(f\"Test Accuracy: {test_accuracy:.2f}\")\n"
      ],
      "metadata": {
        "id": "_nhjdAFV_pRU"
      },
      "execution_count": null,
      "outputs": []
    },
    {
      "cell_type": "code",
      "source": [
        "model.save(\"health_monitor_model.h5\")\n"
      ],
      "metadata": {
        "id": "cSFOV3ev_qa_"
      },
      "execution_count": null,
      "outputs": []
    },
    {
      "cell_type": "code",
      "source": [
        "import gradio as gr\n",
        "import numpy as np\n",
        "\n",
        "# Define the prediction function\n",
        "def predict_status(hr, sdrr, rmssd, sdsd, nn50, pnn50, sd1, sd2, s, k, skew, kurt):\n",
        "    input_data = np.array([[hr, sdrr, rmssd, sdsd, nn50, pnn50, sd1, sd2, s, k, skew, kurt]])\n",
        "    input_scaled = scaler.transform(input_data)\n",
        "    pred = model.predict(input_scaled)[0][0]\n",
        "    return \"⚠️ Alert\" if pred > 0.5 else \"✅ Normal\"\n",
        "\n",
        "# Launch Gradio UI\n",
        "gr.Interface(\n",
        "    fn=predict_status,\n",
        "    inputs=[\n",
        "        gr.Number(label=\"Heart Rate (HR)\"),\n",
        "        gr.Number(label=\"SDRR\"),\n",
        "        gr.Number(label=\"RMSSD\"),\n",
        "        gr.Number(label=\"SDSD\"),\n",
        "        gr.Number(label=\"NN50\"),\n",
        "        gr.Number(label=\"pNN50\"),\n",
        "        gr.Number(label=\"SD1\"),\n",
        "        gr.Number(label=\"SD2\"),\n",
        "        gr.Number(label=\"S\"),\n",
        "        gr.Number(label=\"K\"),\n",
        "        gr.Number(label=\"Skew\"),\n",
        "        gr.Number(label=\"Kurt\")\n",
        "    ],\n",
        "    outputs=\"text\",\n",
        "    title=\"Health Monitoring & Alert System\",\n",
        "    description=\"Enter heart rate variability stats to detect health alerts\"\n",
        ").launch()\n"
      ],
      "metadata": {
        "id": "TxNpnasA_rnt"
      },
      "execution_count": null,
      "outputs": []
    }
  ]
}